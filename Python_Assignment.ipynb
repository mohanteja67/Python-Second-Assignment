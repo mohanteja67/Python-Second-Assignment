{
  "nbformat": 4,
  "nbformat_minor": 0,
  "metadata": {
    "colab": {
      "provenance": []
    },
    "kernelspec": {
      "name": "python3",
      "display_name": "Python 3"
    },
    "language_info": {
      "name": "python"
    }
  },
  "cells": [
    {
      "cell_type": "markdown",
      "source": [
        "#NAME : MOHAN TEJA\n",
        "#BATCH : DATA SCIENCE & AI\n",
        "#-------------------------------------------------------------------------------------------------"
      ],
      "metadata": {
        "id": "yyDy3ia0Q-47"
      }
    },
    {
      "cell_type": "markdown",
      "source": [
        "##1. print the input text without vowels using List Comprehensions\n",
        "###input =\"hai\"\n",
        "###Excepted output=h\n"
      ],
      "metadata": {
        "id": "yOU-Ckezkyy3"
      }
    },
    {
      "cell_type": "code",
      "execution_count": null,
      "metadata": {
        "colab": {
          "base_uri": "https://localhost:8080/"
        },
        "id": "IKa3fhWwkSb5",
        "outputId": "4a5359bf-708d-4679-bb89-a66e5f600c0f"
      },
      "outputs": [
        {
          "output_type": "stream",
          "name": "stdout",
          "text": [
            "h\n"
          ]
        }
      ],
      "source": [
        "input=\"hai\"\n",
        "result=\"\".join([char for char in input if char.lower() not in \"aeiouAEIOU\"])\n",
        "print(result)"
      ]
    },
    {
      "cell_type": "markdown",
      "source": [
        "##2. Print only vowels from the text using List Comprehensions\n",
        "###input=data\n",
        "###Excepted output=dt"
      ],
      "metadata": {
        "id": "WFe3_t4TlMIX"
      }
    },
    {
      "cell_type": "code",
      "source": [
        "string=\"data\"\n",
        "result=\"\".join([i for i in string  if i.lower() not in \"aeiouAEIOU\"])\n",
        "print(result)"
      ],
      "metadata": {
        "colab": {
          "base_uri": "https://localhost:8080/"
        },
        "id": "XGWu5dnqlZEb",
        "outputId": "c05f6b9c-bc24-4814-e15f-33b756564b98"
      },
      "execution_count": null,
      "outputs": [
        {
          "output_type": "stream",
          "name": "stdout",
          "text": [
            "dt\n"
          ]
        }
      ]
    },
    {
      "cell_type": "markdown",
      "source": [
        "##3.print each value from the list with its index\n",
        "###input=[10,11,50,34]\n",
        "###Expected output =[100,111,502,343]\n"
      ],
      "metadata": {
        "id": "4qXy4xodlaDH"
      }
    },
    {
      "cell_type": "code",
      "source": [
        "values=[10,11,50,34]\n",
        "add=[]\n",
        "for i in range(len(values)):\n",
        "  result=values[i]*10+1\n",
        "  add.append(result)\n",
        "print(add)\n"
      ],
      "metadata": {
        "colab": {
          "base_uri": "https://localhost:8080/"
        },
        "id": "Sx1ytoxGSqW_",
        "outputId": "eee32cce-febc-4a3c-cf83-ad8999aa2d99"
      },
      "execution_count": null,
      "outputs": [
        {
          "output_type": "stream",
          "name": "stdout",
          "text": [
            "[101, 111, 501, 341]\n"
          ]
        }
      ]
    },
    {
      "cell_type": "markdown",
      "source": [
        "##4. This is a Python Program to print all integers that aren't divisible by either 2 or 3 and lies between 1and 50"
      ],
      "metadata": {
        "id": "9H4LVFHBl1tD"
      }
    },
    {
      "cell_type": "code",
      "source": [
        "for i in range(1,51):\n",
        "  if i%2!=0 and i%3!=0:\n",
        "    print(i,end =\" \")"
      ],
      "metadata": {
        "id": "7Qhz9x-amVUj",
        "colab": {
          "base_uri": "https://localhost:8080/"
        },
        "outputId": "15634aa8-ce79-4120-d464-2632e6df31b9"
      },
      "execution_count": null,
      "outputs": [
        {
          "output_type": "stream",
          "name": "stdout",
          "text": [
            "1 5 7 11 13 17 19 23 25 29 31 35 37 41 43 47 49 "
          ]
        }
      ]
    },
    {
      "cell_type": "markdown",
      "source": [
        "##5. The Program takes in an integer and prints the smallest divisor of the integer"
      ],
      "metadata": {
        "id": "s3fl_j-PmWMl"
      }
    },
    {
      "cell_type": "code",
      "source": [
        "input=100\n",
        "for i in range(2,input):\n",
        "  if input%i==0:\n",
        "    smallest = i\n",
        "    break\n",
        "if smallest is None:\n",
        "    print(\"Prime Number\")\n",
        "else:\n",
        "    print(f\"Smallest Number : {i}\")"
      ],
      "metadata": {
        "id": "XQpCnbpqnF1D",
        "colab": {
          "base_uri": "https://localhost:8080/"
        },
        "outputId": "1e338748-7f72-4342-faca-ed7a26a0d531"
      },
      "execution_count": null,
      "outputs": [
        {
          "output_type": "stream",
          "name": "stdout",
          "text": [
            "Smallest Number : 2\n"
          ]
        }
      ]
    },
    {
      "cell_type": "markdown",
      "source": [
        "##6. Write a python program to check if it's is a strong number or not"
      ],
      "metadata": {
        "id": "jzF1aWl4nGnz"
      }
    },
    {
      "cell_type": "code",
      "source": [
        "value=100\n",
        "st=str(value)\n",
        "result=[]\n",
        "dic={'0':1,'1': 1,'2':4,'3':6,'4':24,'5':120,'6':720,'7':5040,'8':40320,'9':362880}\n",
        "for i in range(len(st)):\n",
        "  result.append(dic[st[i]])\n",
        "print(result)\n",
        "sum=0\n",
        "for j in range(len(result)):\n",
        "  sum+=result[j]\n",
        "print(sum)\n",
        "\n",
        "if (value==sum):\n",
        "  print(\"Strong Number\")\n",
        "else:\n",
        "  print(\"not Strong Number\")"
      ],
      "metadata": {
        "id": "WHwFxsJ5nSzS",
        "colab": {
          "base_uri": "https://localhost:8080/"
        },
        "outputId": "ab2bec48-5fdf-4bda-c2f5-358027e19f9b"
      },
      "execution_count": null,
      "outputs": [
        {
          "output_type": "stream",
          "name": "stdout",
          "text": [
            "[1, 1, 1]\n",
            "3\n",
            "not Strong Number\n"
          ]
        }
      ]
    },
    {
      "cell_type": "markdown",
      "source": [
        "##7. Write a python program that takes input from the user and displays that input back in upper and lower case"
      ],
      "metadata": {
        "id": "7mWnVev4nTv0"
      }
    },
    {
      "cell_type": "code",
      "source": [
        "string=\"Mohan Teja\"\n",
        "print(f\"Upper Case  :{string.upper()}\")\n",
        "print(f\"Lower Case: {string.lower()}\")\n"
      ],
      "metadata": {
        "colab": {
          "base_uri": "https://localhost:8080/"
        },
        "id": "my-pAayinhC_",
        "outputId": "766d7bde-a073-4350-a481-b37636162f05"
      },
      "execution_count": 26,
      "outputs": [
        {
          "output_type": "stream",
          "name": "stdout",
          "text": [
            "Upper :MOHAN TEJA\n",
            "Lower : mohan teja\n"
          ]
        }
      ]
    },
    {
      "cell_type": "markdown",
      "source": [
        "##8. Write a python program to removes spaces from given string\n",
        "###input = united states\n",
        "###output = united states"
      ],
      "metadata": {
        "id": "GHeq_3OHnh-e"
      }
    },
    {
      "cell_type": "code",
      "source": [
        "input=\"united states\"\n",
        "gap=\" \"\n",
        "for char in input:\n",
        "  if char == \" \":\n",
        "    gap=gap+\"\"\n",
        "  else:\n",
        "    gap+=char\n",
        "print(gap)"
      ],
      "metadata": {
        "colab": {
          "base_uri": "https://localhost:8080/"
        },
        "id": "ohpfBIp9nvbO",
        "outputId": "1651f4bb-e89a-4da9-8c13-8c494f0b2812"
      },
      "execution_count": null,
      "outputs": [
        {
          "output_type": "stream",
          "name": "stdout",
          "text": [
            " unitedstates\n"
          ]
        }
      ]
    },
    {
      "cell_type": "markdown",
      "source": [
        "##9. Write a python program to capitalize first and last letters of each word of a given string"
      ],
      "metadata": {
        "id": "YNB7tp3CnwXb"
      }
    },
    {
      "cell_type": "code",
      "source": [
        "string=\"mohan Teja\"\n",
        "result=\"\"\n",
        "for i in range(len(string)):\n",
        "  if i==0 or i==len(string)-1:\n",
        "    result+=string[i].upper()\n",
        "  else:\n",
        "    result+=string[i]\n",
        "print(result)"
      ],
      "metadata": {
        "colab": {
          "base_uri": "https://localhost:8080/"
        },
        "id": "RRQd8NyXn75P",
        "outputId": "ac15c0e2-d5b3-4788-ee8a-45b50dac22ac"
      },
      "execution_count": 29,
      "outputs": [
        {
          "output_type": "stream",
          "name": "stdout",
          "text": [
            "Mohan TejA\n"
          ]
        }
      ]
    },
    {
      "cell_type": "markdown",
      "source": [
        "##10. Write a python program to find lenght of a string but should not use len keyword"
      ],
      "metadata": {
        "id": "HD-1XNfBn8nP"
      }
    },
    {
      "cell_type": "code",
      "source": [
        "string=\"Mohan Teja\"\n",
        "count=0\n",
        "for i in string:\n",
        "  count+=1\n",
        "print(f\"The length of {string} is {count}\")\n"
      ],
      "metadata": {
        "colab": {
          "base_uri": "https://localhost:8080/"
        },
        "id": "iRpCzPZloHg3",
        "outputId": "552891d1-e260-4cfc-829c-4b6e5cb11087"
      },
      "execution_count": null,
      "outputs": [
        {
          "output_type": "stream",
          "name": "stdout",
          "text": [
            "The length of Mohan Teja is 10\n"
          ]
        }
      ]
    }
  ]
}